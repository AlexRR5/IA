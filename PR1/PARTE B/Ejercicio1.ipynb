{
 "cells": [
  {
   "cell_type": "markdown",
   "metadata": {},
   "source": [
    "ENUNCIADO\n",
    "Un grupo de 5 personas quiere cruzar un viejo y estrecho puente. Es una noche\n",
    "cerrada y se necesita llevar una linterna para cruzar. El grupo solo dispone de\n",
    "una linterna, a la que le quedan 5 minutos de batería.\n",
    "    1. Cada persona tarda en cruzar 10, 30, 60, 80 y 120 segundos,\n",
    "        respectivamente.\n",
    "    2. El puente solo resiste un máximo de 2 personas cruzando a la vez, y\n",
    "        cuando cruzan dos personas juntas, caminan a la velocidad del más lento.\n",
    "    3. No se puede lanzar la linterna de un extremo a otro del puente, así que\n",
    "        cada vez que crucen dos personas, alguien tiene que volver a cruzar hacia\n",
    "        atrás con la linterna a buscar a los compañeros que falten, y así hasta que\n",
    "        hayan cruzado todos."
   ]
  },
  {
   "cell_type": "markdown",
   "metadata": {},
   "source": [
    "RESOLUCION"
   ]
  },
  {
   "cell_type": "markdown",
   "metadata": {},
   "source": [
    "La entrada consiste en el número de personas, así como sus respectivos tiempos de cruce y la duración de la linterna.\n",
    "El estado va a ser un array de tamaño k=\"personas\" + 2;\n",
    "    1. Las primeras \"personas\" posiciones se corresponden a la orilla en la que se encuentra la persona (0 es que se encuentra en la orilla inicio y 1 en la orilla final).\n",
    "    2. La siguiente posición (state[personas]) es la orilla en la que está la linterna.\n",
    "    3. La última posición se corresponde que el tiempo que le queda a la linterna para que se apague. Obviamente la solución será válida si han cruzado todos y dicho tiempo es >= 0"
   ]
  },
  {
   "cell_type": "markdown",
   "metadata": {},
   "source": [
    "# REPRESENTACIÓN DE ESTADOS\n",
    "\n",
    "Llevamos en el estado una tupla (P1, P2,..., Pn, L, t) donde\n",
    "- Pi es 0 si la persona i está en la orilla origen o 1 si está en la orilla destino (i entre 1 y n)\n",
    "- n el número de personas (variable dependiendo del problema)\n",
    "- L 0 o 1 dependiendo de la orilla en la que esté la linterna\n",
    "- t el tiempo que resta a la linterna con t < tLimite (se pasará por parámetro, igual que n, al crear el problema)\n",
    "\n",
    "---\n",
    "\n",
    "### Estado inicial\n",
    "(0, 0, 0, 0, 0, 0, 300) suponiendo nuestro problema con 5 personas y tiempoLimite 300\n",
    "\n",
    "### Estado objetivo \n",
    "(1, 1, 1, 1, 1, 1, t) con t en [0,300]\n",
    "\n",
    "---\n",
    "\n",
    "#### Estados posibles\n",
    "2^(n+1)\n",
    "\n",
    "#### Estados inalcanzables \n",
    "(0, 0, 0, 0, 0, 1, t)\n",
    "(1, 1, 1, 1, 1, 0, t)\n",
    "con t entre 0 y tLimite=300\n",
    "\n",
    "#### Restricciones estados no válido (estados de peligro):\n",
    "t < 0.\n",
    "Todos los estados alcanzables son válidos pues no hay ningún peligro en el problema, solo pondremos que el tiempo tiene que ser < 0, es decir, la linterna todavía tiene batería\n",
    "\n",
    "---\n",
    "\n",
    "### Especificación operadores\n",
    "cruzaij(i,j)\n",
    "donde cruzarán a la otra orilla las personas i y j, o la persona i sola si j = 0 (en el código jugamos con los índices de los estados pues la persona 1 en la lista del estado estaría en la posición 0)\n",
    "\n",
    "PRECONDICIONES:\n",
    "(L=0 and Pi = 0 and *Pj = 0*) or (L=1 and Pi = 1 and *Pj = 1*) \n",
    "\n",
    "POSTCONDICIONES: \n",
    "\n",
    "- (P1,...,Pi,...,Pj,..., L, t) -> (P1,...,Pi + 1,...,Pj *+ 1*,..., L + 1, t)\n",
    "- (P1,...,Pi,...,Pj,..., L, t) -> (P1,...,Pi - 1,...,Pj *- 1*,..., L - 1, t)\n",
    "- Estado no peligroso (t' >= 0)\n",
    "\n",
    "*Lo que está en cursiva ocurre solo si j !=0, si no se omite"
   ]
  },
  {
   "cell_type": "markdown",
   "metadata": {},
   "source": [
    "### Coste de la solución\n",
    "EL coste será el número de operadores aplicados si utilizamos como heurística el número de viajes que nos quedan para llegar todos a la orilla destino y lleguemos al estado objetivo. Si utilizamos heurísticas en las que influye el tiempo cambiamos el coste al implementado en la clase del problema de este archivo que será el tiempo que llevamos con los viajes realizados hasta el momento"
   ]
  },
  {
   "cell_type": "code",
   "execution_count": 1,
   "metadata": {},
   "outputs": [
    {
     "name": "stdout",
     "output_type": "stream",
     "text": [
      "C:\\Users\\david\\Desktop\\Trabajos\\4º\\IA\\Prácticas\\PR1\n"
     ]
    }
   ],
   "source": [
    "cd .."
   ]
  },
  {
   "cell_type": "code",
   "execution_count": 2,
   "metadata": {},
   "outputs": [
    {
     "name": "stdout",
     "output_type": "stream",
     "text": [
      "C:\\Users\\david\\Desktop\\Trabajos\\4º\\IA\\Prácticas\n"
     ]
    }
   ],
   "source": [
    "cd .."
   ]
  },
  {
   "cell_type": "code",
   "execution_count": 3,
   "metadata": {},
   "outputs": [
    {
     "name": "stdout",
     "output_type": "stream",
     "text": [
      "C:\\Users\\david\\Desktop\\Trabajos\\4º\\IA\\Prácticas\\aima-python\n"
     ]
    }
   ],
   "source": [
    "cd aima-python\n"
   ]
  },
  {
   "cell_type": "code",
   "execution_count": 4,
   "metadata": {},
   "outputs": [],
   "source": [
    "from search import *\n",
    "from search import breadth_first_tree_search, depth_first_tree_search, depth_first_graph_search, breadth_first_graph_search"
   ]
  },
  {
   "cell_type": "code",
   "execution_count": 5,
   "metadata": {},
   "outputs": [],
   "source": [
    "import math\n",
    "\n",
    "class Problema1 (Problem):\n",
    "    \n",
    "    \n",
    "    def __init__(self, personas, tiempos, tLimite, goal=None):\n",
    "        self.tiempos = tiempos\n",
    "        self.personas = personas\n",
    "        \n",
    "        initial = [0 for n in range (0,personas+1)]\n",
    "        initial.append(tLimite)\n",
    "        self.initial = tuple(initial)\n",
    "        \n",
    "        goal=[1 for n in range (0,personas+1)]\n",
    "        goal.append(0)\n",
    "        self.goal = tuple(goal)\n",
    "        \n",
    "        self._actions = [(\"Cruza la persona %d\"%i,(i,0)) for i in range (1,personas + 1)]\n",
    "        self._actions += [(\"Cruzan las personas %d y %d\"%(i,j),(i,j)) for i in range (1,personas + 1) for j in range (i+1,personas + 1)]\n",
    "        \n",
    "        \n",
    "    def actions(self, s):\n",
    "        valido = True\n",
    "        lista = []\n",
    "        \n",
    "        for a in self._actions:\n",
    "            if a[1][1] == 0: #Un 0 en la segunda poscion de la tupla que indica que dos personas cruzan significa que sólo cruza una\n",
    "                valido = s[a[1][0] - 1] == s[self.personas]#para comprobar que el que se mueve esta en la misma orilla que la linterna\n",
    "                valido = valido and (s[self.personas + 1] - self.tiempos[a[1][0] - 1])>=0 #para comprobar que todavia tenemos tiempo para que puedan cruzar la personas\n",
    "            else:\n",
    "                valido = s[a[1][0] - 1] == s[a[1][1] - 1] == s[self.personas]\n",
    "                valido = valido and (s[self.personas + 1] - max(self.tiempos[a[1][0] - 1],self.tiempos[a[1][1] - 1]))>=0\n",
    "                \n",
    "            if valido:\n",
    "                lista.append(a)\n",
    "                \n",
    "        return lista\n",
    "    '''\n",
    "    Cada vez que se mete en is valid modifica el estado actual, por lo que las comprobaciones despues de la primera vez son erroneas\n",
    "     def _is_valid(self, s):\n",
    "        valido = True\n",
    "        for i in range (0, self.personas + 1):\n",
    "            if not(0 <= s[i] <= 1):\n",
    "                valido = False\n",
    "                \n",
    "        if s[self.personas + 1]<0:\n",
    "            valido = False\n",
    "        \n",
    "        return valido\n",
    "    \n",
    "    '''\n",
    "   \n",
    "    \n",
    "    def result(self, s, a):\n",
    "        l = list(s)\n",
    "        maximo = self.tiempos[a[1][0]-1]\n",
    "        if l[self.personas] == 0:\n",
    "            l[a[1][0] - 1] += 1 #actualiza el que se mueve\n",
    "            l[self.personas] += 1 #actualiza la linterna\n",
    "            \n",
    "            if a[1][1] != 0:\n",
    "                maximo = max(maximo,self.tiempos[a[1][1]-1])\n",
    "                l[a[1][1] - 1] += 1\n",
    "            \n",
    "        else:\n",
    "            l[self.personas] -= 1\n",
    "            l[a[1][0] - 1] -= 1\n",
    "            \n",
    "            if a[1][1] != 0:\n",
    "                maximo = max(maximo,self.tiempos[a[1][1]-1])\n",
    "                l[a[1][1] - 1] -= 1\n",
    "        \n",
    "        l[self.personas + 1] -= maximo #actualiza el tiempo\n",
    "                \n",
    "        return tuple(l)\n",
    "    \n",
    "    def goal_test(self, state):\n",
    "        i = 0\n",
    "        while i < self.personas+1:\n",
    "            if state[i] != self.goal[i]:\n",
    "                return False\n",
    "            i += 1\n",
    "            \n",
    "        return state[i]>=0\n",
    "    \n",
    "    \n",
    "    #def path_cost(self, c, state1, action, state2):   Para las heurísticas en las que miramos el tiempo\n",
    "    #    cost = self.tiempos[action[1][0] - 1]\n",
    "    #    if action[1][1] != 0:\n",
    "    #        cost = max(self.tiempos[action[1][1] - 1], cost)\n",
    "    #\n",
    "    #    return c + cost\n",
    "    \n",
    "\n",
    "    #HEURÍSTICAS\n",
    "    \n",
    "    \n",
    "    def h(self, node):\n",
    "        state = node.state\n",
    "        num = 0\n",
    "        for i in range (0,self.personas):\n",
    "            if state[i] == 0:\n",
    "                num += 1\n",
    "                \n",
    "        if num != 0:\n",
    "            num += state[self.personas] #si la linterna esta en el destino, tiene que cruzar alguien con ella y entonces habrá una persona más en el origen que tenga que cruzar\n",
    "            \n",
    "        if num < 2:\n",
    "            return num\n",
    "        else:\n",
    "            return (num-2)*2 + 1 + state[self.personas] #todas las personas menos los dos ultimos hacen dos viajes para que cruce uno solo y los dos últimos vuelven en un vijae. Además si la linterna empezaba en la orilla destino tiene que ir a la orilla origen en un viaje\n",
    "        \n",
    "        \n",
    "    def hTiempo (self, node):\n",
    "        state = node.state\n",
    "        viajes = h(self, node)\n",
    "        minTiempo = self.tiempos[0]\n",
    "        \n",
    "        for i in range (1, self.personas):\n",
    "            minTiempo = min(minTiempo, self.tiempos[i])\n",
    "            \n",
    "        return viajes*minTiempo\n",
    "                         \n",
    "        \n",
    "    def hInfLinternas (self, node):\n",
    "        state = node.state\n",
    "        tiempo = 0\n",
    "        \n",
    "        for i in range (0,self.personas):\n",
    "            if state[i] == 0:\n",
    "                tiempo += self.tiempos[i]\n",
    "        \n",
    "        return tiempo/2\n",
    "                "
   ]
  },
  {
   "cell_type": "code",
   "execution_count": 6,
   "metadata": {},
   "outputs": [],
   "source": [
    "p=Problema1(5,[10,30,60,80,120],5*60)"
   ]
  },
  {
   "cell_type": "code",
   "execution_count": 7,
   "metadata": {},
   "outputs": [
    {
     "data": {
      "text/plain": [
       "[('Cruzan las personas 1 y 2', (1, 2)),\n",
       " ('Cruza la persona 1', (1, 0)),\n",
       " ('Cruzan las personas 1 y 3', (1, 3)),\n",
       " ('Cruza la persona 1', (1, 0)),\n",
       " ('Cruzan las personas 4 y 5', (4, 5)),\n",
       " ('Cruza la persona 2', (2, 0)),\n",
       " ('Cruzan las personas 1 y 2', (1, 2))]"
      ]
     },
     "execution_count": 7,
     "metadata": {},
     "output_type": "execute_result"
    }
   ],
   "source": [
    "breadth_first_graph_search(p).solution()"
   ]
  },
  {
   "cell_type": "code",
   "execution_count": 8,
   "metadata": {},
   "outputs": [
    {
     "data": {
      "text/plain": [
       "[('Cruzan las personas 1 y 3', (1, 3)),\n",
       " ('Cruza la persona 1', (1, 0)),\n",
       " ('Cruzan las personas 1 y 2', (1, 2)),\n",
       " ('Cruza la persona 2', (2, 0)),\n",
       " ('Cruzan las personas 4 y 5', (4, 5)),\n",
       " ('Cruza la persona 1', (1, 0)),\n",
       " ('Cruzan las personas 1 y 2', (1, 2))]"
      ]
     },
     "execution_count": 8,
     "metadata": {},
     "output_type": "execute_result"
    }
   ],
   "source": [
    "depth_first_graph_search(p).solution()"
   ]
  },
  {
   "cell_type": "code",
   "execution_count": 9,
   "metadata": {},
   "outputs": [
    {
     "data": {
      "text/plain": [
       "[('Cruzan las personas 1 y 3', (1, 3)),\n",
       " ('Cruza la persona 1', (1, 0)),\n",
       " ('Cruzan las personas 1 y 2', (1, 2)),\n",
       " ('Cruza la persona 1', (1, 0)),\n",
       " ('Cruzan las personas 4 y 5', (4, 5)),\n",
       " ('Cruza la persona 2', (2, 0)),\n",
       " ('Cruzan las personas 1 y 2', (1, 2))]"
      ]
     },
     "execution_count": 9,
     "metadata": {},
     "output_type": "execute_result"
    }
   ],
   "source": [
    "uniform_cost_search(p).solution()"
   ]
  },
  {
   "cell_type": "code",
   "execution_count": 10,
   "metadata": {},
   "outputs": [
    {
     "data": {
      "text/plain": [
       "[('Cruzan las personas 1 y 2', (1, 2)),\n",
       " ('Cruza la persona 1', (1, 0)),\n",
       " ('Cruzan las personas 4 y 5', (4, 5)),\n",
       " ('Cruza la persona 2', (2, 0)),\n",
       " ('Cruzan las personas 1 y 3', (1, 3)),\n",
       " ('Cruza la persona 1', (1, 0)),\n",
       " ('Cruzan las personas 1 y 2', (1, 2))]"
      ]
     },
     "execution_count": 10,
     "metadata": {},
     "output_type": "execute_result"
    }
   ],
   "source": [
    "astar_search(p).solution()"
   ]
  },
  {
   "cell_type": "code",
   "execution_count": 11,
   "metadata": {},
   "outputs": [
    {
     "data": {
      "text/plain": [
       "[('Cruzan las personas 1 y 3', (1, 3)),\n",
       " ('Cruza la persona 1', (1, 0)),\n",
       " ('Cruzan las personas 1 y 2', (1, 2)),\n",
       " ('Cruza la persona 1', (1, 0)),\n",
       " ('Cruzan las personas 4 y 5', (4, 5)),\n",
       " ('Cruza la persona 2', (2, 0)),\n",
       " ('Cruzan las personas 1 y 2', (1, 2))]"
      ]
     },
     "execution_count": 11,
     "metadata": {},
     "output_type": "execute_result"
    }
   ],
   "source": [
    "best_first_graph_search(p, p.h).solution()"
   ]
  },
  {
   "cell_type": "markdown",
   "metadata": {},
   "source": [
    "Las cinco búsquedas son instántaneas"
   ]
  },
  {
   "cell_type": "code",
   "execution_count": 12,
   "metadata": {},
   "outputs": [],
   "source": [
    "# Hacemos una definición ampliada de la clase Problem de AIMA que nos va a permitir experimentar con distintos\n",
    "# estados iniciales, algoritmos y heurísticas, para resolver el 8-puzzle. \n",
    "# Añadimos en la clase ampliada la capacidad para contar el número de nodos analizados durante la búsqueda:\n",
    "\n",
    "\n",
    "class Problema_con_Analizados(Problem):\n",
    "\n",
    "    \"\"\"Es un problema que se comporta exactamente igual que el que recibe al\n",
    "       inicializarse, y además incorpora unos atributos nuevos para almacenar el\n",
    "       número de nodos analizados durante la búsqueda. De esta manera, no\n",
    "       tenemos que modificar el código del algoritmo de búsqueda.\"\"\" \n",
    "         \n",
    "    def __init__(self, problem):\n",
    "        self.initial = problem.initial\n",
    "        self.problem = problem\n",
    "        self.analizados  = 0\n",
    "        self.goal = problem.goal\n",
    "\n",
    "    def actions(self, estado):\n",
    "        return self.problem.actions(estado)\n",
    "\n",
    "    def result(self, estado, accion):\n",
    "        return self.problem.result(estado, accion)\n",
    "\n",
    "    def goal_test(self, estado):\n",
    "        self.analizados += 1\n",
    "        return self.problem.goal_test(estado)\n",
    "\n",
    "    def coste_de_aplicar_accion(self, estado, accion):\n",
    "        return self.problem.coste_de_aplicar_accion(estado,accion)       "
   ]
  },
  {
   "cell_type": "code",
   "execution_count": 13,
   "metadata": {},
   "outputs": [],
   "source": [
    "def resuelve_p(problem, algoritmo, h=None):\n",
    "\n",
    "    p=Problema_con_Analizados(problem)\n",
    "    if h: \n",
    "        sol= algoritmo(p,h).solution()\n",
    "    else: \n",
    "        sol= algoritmo(p).solution()\n",
    "    print(\"Solución: {0}\".format(sol))\n",
    "    print(\"Algoritmo: {0}\".format(algoritmo.__name__))\n",
    "    if h: \n",
    "        print(\"Heurística: {0}\".format(h.__name__))\n",
    "    else:\n",
    "        pass\n",
    "    print(\"Longitud de la solución: {0}. Nodos analizados: {1}\".format(len(sol),p.analizados))\n",
    "  "
   ]
  },
  {
   "cell_type": "code",
   "execution_count": 16,
   "metadata": {},
   "outputs": [
    {
     "name": "stdout",
     "output_type": "stream",
     "text": [
      "Solución: [('Cruzan las personas 1 y 2', (1, 2)), ('Cruza la persona 1', (1, 0)), ('Cruzan las personas 4 y 5', (4, 5)), ('Cruza la persona 2', (2, 0)), ('Cruzan las personas 1 y 3', (1, 3)), ('Cruza la persona 1', (1, 0)), ('Cruzan las personas 1 y 2', (1, 2))]\n",
      "Algoritmo: astar_search\n",
      "Heurística: h\n",
      "Longitud de la solución: 7. Nodos analizados: 250\n"
     ]
    }
   ],
   "source": [
    "resuelve_p(p, astar_search, p.h)"
   ]
  },
  {
   "cell_type": "code",
   "execution_count": 15,
   "metadata": {},
   "outputs": [
    {
     "name": "stdout",
     "output_type": "stream",
     "text": [
      "Solución: [('Cruzan las personas 1 y 3', (1, 3)), ('Cruza la persona 1', (1, 0)), ('Cruzan las personas 1 y 2', (1, 2)), ('Cruza la persona 1', (1, 0)), ('Cruzan las personas 4 y 5', (4, 5)), ('Cruza la persona 2', (2, 0)), ('Cruzan las personas 1 y 2', (1, 2))]\n",
      "Algoritmo: best_first_graph_search\n",
      "Heurística: h\n",
      "Longitud de la solución: 7. Nodos analizados: 536\n"
     ]
    }
   ],
   "source": [
    "resuelve_p(p, best_first_graph_search, p.h)"
   ]
  },
  {
   "cell_type": "code",
   "execution_count": 16,
   "metadata": {},
   "outputs": [
    {
     "name": "stdout",
     "output_type": "stream",
     "text": [
      "Solución: [('Cruzan las personas 1 y 2', (1, 2)), ('Cruza la persona 1', (1, 0)), ('Cruzan las personas 1 y 3', (1, 3)), ('Cruza la persona 1', (1, 0)), ('Cruzan las personas 4 y 5', (4, 5)), ('Cruza la persona 2', (2, 0)), ('Cruzan las personas 1 y 2', (1, 2))]\n",
      "Algoritmo: breadth_first_graph_search\n",
      "Longitud de la solución: 7. Nodos analizados: 720\n"
     ]
    }
   ],
   "source": [
    "resuelve_p(p, breadth_first_graph_search)"
   ]
  },
  {
   "cell_type": "code",
   "execution_count": 17,
   "metadata": {},
   "outputs": [
    {
     "name": "stdout",
     "output_type": "stream",
     "text": [
      "Solución: [('Cruzan las personas 1 y 3', (1, 3)), ('Cruza la persona 1', (1, 0)), ('Cruzan las personas 1 y 2', (1, 2)), ('Cruza la persona 2', (2, 0)), ('Cruzan las personas 4 y 5', (4, 5)), ('Cruza la persona 1', (1, 0)), ('Cruzan las personas 1 y 2', (1, 2))]\n",
      "Algoritmo: depth_first_graph_search\n",
      "Longitud de la solución: 7. Nodos analizados: 610\n"
     ]
    }
   ],
   "source": [
    "resuelve_p(p, depth_first_graph_search)"
   ]
  },
  {
   "cell_type": "code",
   "execution_count": 18,
   "metadata": {},
   "outputs": [
    {
     "name": "stdout",
     "output_type": "stream",
     "text": [
      "Solución: [('Cruzan las personas 1 y 3', (1, 3)), ('Cruza la persona 1', (1, 0)), ('Cruzan las personas 1 y 2', (1, 2)), ('Cruza la persona 1', (1, 0)), ('Cruzan las personas 4 y 5', (4, 5)), ('Cruza la persona 2', (2, 0)), ('Cruzan las personas 1 y 2', (1, 2))]\n",
      "Algoritmo: uniform_cost_search\n",
      "Longitud de la solución: 7. Nodos analizados: 720\n"
     ]
    }
   ],
   "source": [
    "resuelve_p(p, uniform_cost_search)"
   ]
  },
  {
   "cell_type": "code",
   "execution_count": 15,
   "metadata": {},
   "outputs": [
    {
     "ename": "NameError",
     "evalue": "name 'h' is not defined",
     "output_type": "error",
     "traceback": [
      "\u001b[1;31m---------------------------------------------------------------------------\u001b[0m",
      "\u001b[1;31mNameError\u001b[0m                                 Traceback (most recent call last)",
      "\u001b[1;32m<ipython-input-15-a3c13ac598a1>\u001b[0m in \u001b[0;36m<module>\u001b[1;34m\u001b[0m\n\u001b[1;32m----> 1\u001b[1;33m \u001b[0mresuelve_p\u001b[0m\u001b[1;33m(\u001b[0m\u001b[0mp\u001b[0m\u001b[1;33m,\u001b[0m \u001b[0mastar_search\u001b[0m\u001b[1;33m,\u001b[0m \u001b[0mp\u001b[0m\u001b[1;33m.\u001b[0m\u001b[0mhTiempo\u001b[0m\u001b[1;33m)\u001b[0m\u001b[1;33m\u001b[0m\u001b[1;33m\u001b[0m\u001b[0m\n\u001b[0m",
      "\u001b[1;32m<ipython-input-13-c0bc0d1ffc25>\u001b[0m in \u001b[0;36mresuelve_p\u001b[1;34m(problem, algoritmo, h)\u001b[0m\n\u001b[0;32m      3\u001b[0m     \u001b[0mp\u001b[0m\u001b[1;33m=\u001b[0m\u001b[0mProblema_con_Analizados\u001b[0m\u001b[1;33m(\u001b[0m\u001b[0mproblem\u001b[0m\u001b[1;33m)\u001b[0m\u001b[1;33m\u001b[0m\u001b[1;33m\u001b[0m\u001b[0m\n\u001b[0;32m      4\u001b[0m     \u001b[1;32mif\u001b[0m \u001b[0mh\u001b[0m\u001b[1;33m:\u001b[0m\u001b[1;33m\u001b[0m\u001b[1;33m\u001b[0m\u001b[0m\n\u001b[1;32m----> 5\u001b[1;33m         \u001b[0msol\u001b[0m\u001b[1;33m=\u001b[0m \u001b[0malgoritmo\u001b[0m\u001b[1;33m(\u001b[0m\u001b[0mp\u001b[0m\u001b[1;33m,\u001b[0m\u001b[0mh\u001b[0m\u001b[1;33m)\u001b[0m\u001b[1;33m.\u001b[0m\u001b[0msolution\u001b[0m\u001b[1;33m(\u001b[0m\u001b[1;33m)\u001b[0m\u001b[1;33m\u001b[0m\u001b[1;33m\u001b[0m\u001b[0m\n\u001b[0m\u001b[0;32m      6\u001b[0m     \u001b[1;32melse\u001b[0m\u001b[1;33m:\u001b[0m\u001b[1;33m\u001b[0m\u001b[1;33m\u001b[0m\u001b[0m\n\u001b[0;32m      7\u001b[0m         \u001b[0msol\u001b[0m\u001b[1;33m=\u001b[0m \u001b[0malgoritmo\u001b[0m\u001b[1;33m(\u001b[0m\u001b[0mp\u001b[0m\u001b[1;33m)\u001b[0m\u001b[1;33m.\u001b[0m\u001b[0msolution\u001b[0m\u001b[1;33m(\u001b[0m\u001b[1;33m)\u001b[0m\u001b[1;33m\u001b[0m\u001b[1;33m\u001b[0m\u001b[0m\n",
      "\u001b[1;32m~\\Desktop\\Trabajos\\4º\\IA\\Prácticas\\aima-python\\search.py\u001b[0m in \u001b[0;36mastar_search\u001b[1;34m(problem, h, display)\u001b[0m\n\u001b[0;32m    418\u001b[0m     else in your Problem subclass.\"\"\"\n\u001b[0;32m    419\u001b[0m     \u001b[0mh\u001b[0m \u001b[1;33m=\u001b[0m \u001b[0mmemoize\u001b[0m\u001b[1;33m(\u001b[0m\u001b[0mh\u001b[0m \u001b[1;32mor\u001b[0m \u001b[0mproblem\u001b[0m\u001b[1;33m.\u001b[0m\u001b[0mh\u001b[0m\u001b[1;33m,\u001b[0m \u001b[1;34m'h'\u001b[0m\u001b[1;33m)\u001b[0m\u001b[1;33m\u001b[0m\u001b[1;33m\u001b[0m\u001b[0m\n\u001b[1;32m--> 420\u001b[1;33m     \u001b[1;32mreturn\u001b[0m \u001b[0mbest_first_graph_search\u001b[0m\u001b[1;33m(\u001b[0m\u001b[0mproblem\u001b[0m\u001b[1;33m,\u001b[0m \u001b[1;32mlambda\u001b[0m \u001b[0mn\u001b[0m\u001b[1;33m:\u001b[0m \u001b[0mn\u001b[0m\u001b[1;33m.\u001b[0m\u001b[0mpath_cost\u001b[0m \u001b[1;33m+\u001b[0m \u001b[0mh\u001b[0m\u001b[1;33m(\u001b[0m\u001b[0mn\u001b[0m\u001b[1;33m)\u001b[0m\u001b[1;33m,\u001b[0m \u001b[0mdisplay\u001b[0m\u001b[1;33m)\u001b[0m\u001b[1;33m\u001b[0m\u001b[1;33m\u001b[0m\u001b[0m\n\u001b[0m\u001b[0;32m    421\u001b[0m \u001b[1;33m\u001b[0m\u001b[0m\n\u001b[0;32m    422\u001b[0m \u001b[1;33m\u001b[0m\u001b[0m\n",
      "\u001b[1;32m~\\Desktop\\Trabajos\\4º\\IA\\Prácticas\\aima-python\\search.py\u001b[0m in \u001b[0;36mbest_first_graph_search\u001b[1;34m(problem, f, display)\u001b[0m\n\u001b[0;32m    269\u001b[0m     \u001b[0mnode\u001b[0m \u001b[1;33m=\u001b[0m \u001b[0mNode\u001b[0m\u001b[1;33m(\u001b[0m\u001b[0mproblem\u001b[0m\u001b[1;33m.\u001b[0m\u001b[0minitial\u001b[0m\u001b[1;33m)\u001b[0m\u001b[1;33m\u001b[0m\u001b[1;33m\u001b[0m\u001b[0m\n\u001b[0;32m    270\u001b[0m     \u001b[0mfrontier\u001b[0m \u001b[1;33m=\u001b[0m \u001b[0mPriorityQueue\u001b[0m\u001b[1;33m(\u001b[0m\u001b[1;34m'min'\u001b[0m\u001b[1;33m,\u001b[0m \u001b[0mf\u001b[0m\u001b[1;33m)\u001b[0m\u001b[1;33m\u001b[0m\u001b[1;33m\u001b[0m\u001b[0m\n\u001b[1;32m--> 271\u001b[1;33m     \u001b[0mfrontier\u001b[0m\u001b[1;33m.\u001b[0m\u001b[0mappend\u001b[0m\u001b[1;33m(\u001b[0m\u001b[0mnode\u001b[0m\u001b[1;33m)\u001b[0m\u001b[1;33m\u001b[0m\u001b[1;33m\u001b[0m\u001b[0m\n\u001b[0m\u001b[0;32m    272\u001b[0m     \u001b[0mexplored\u001b[0m \u001b[1;33m=\u001b[0m \u001b[0mset\u001b[0m\u001b[1;33m(\u001b[0m\u001b[1;33m)\u001b[0m\u001b[1;33m\u001b[0m\u001b[1;33m\u001b[0m\u001b[0m\n\u001b[0;32m    273\u001b[0m     \u001b[1;32mwhile\u001b[0m \u001b[0mfrontier\u001b[0m\u001b[1;33m:\u001b[0m\u001b[1;33m\u001b[0m\u001b[1;33m\u001b[0m\u001b[0m\n",
      "\u001b[1;32m~\\Desktop\\Trabajos\\4º\\IA\\Prácticas\\aima-python\\utils.py\u001b[0m in \u001b[0;36mappend\u001b[1;34m(self, item)\u001b[0m\n\u001b[0;32m    738\u001b[0m     \u001b[1;32mdef\u001b[0m \u001b[0mappend\u001b[0m\u001b[1;33m(\u001b[0m\u001b[0mself\u001b[0m\u001b[1;33m,\u001b[0m \u001b[0mitem\u001b[0m\u001b[1;33m)\u001b[0m\u001b[1;33m:\u001b[0m\u001b[1;33m\u001b[0m\u001b[1;33m\u001b[0m\u001b[0m\n\u001b[0;32m    739\u001b[0m         \u001b[1;34m\"\"\"Insert item at its correct position.\"\"\"\u001b[0m\u001b[1;33m\u001b[0m\u001b[1;33m\u001b[0m\u001b[0m\n\u001b[1;32m--> 740\u001b[1;33m         \u001b[0mheapq\u001b[0m\u001b[1;33m.\u001b[0m\u001b[0mheappush\u001b[0m\u001b[1;33m(\u001b[0m\u001b[0mself\u001b[0m\u001b[1;33m.\u001b[0m\u001b[0mheap\u001b[0m\u001b[1;33m,\u001b[0m \u001b[1;33m(\u001b[0m\u001b[0mself\u001b[0m\u001b[1;33m.\u001b[0m\u001b[0mf\u001b[0m\u001b[1;33m(\u001b[0m\u001b[0mitem\u001b[0m\u001b[1;33m)\u001b[0m\u001b[1;33m,\u001b[0m \u001b[0mitem\u001b[0m\u001b[1;33m)\u001b[0m\u001b[1;33m)\u001b[0m\u001b[1;33m\u001b[0m\u001b[1;33m\u001b[0m\u001b[0m\n\u001b[0m\u001b[0;32m    741\u001b[0m \u001b[1;33m\u001b[0m\u001b[0m\n\u001b[0;32m    742\u001b[0m     \u001b[1;32mdef\u001b[0m \u001b[0mextend\u001b[0m\u001b[1;33m(\u001b[0m\u001b[0mself\u001b[0m\u001b[1;33m,\u001b[0m \u001b[0mitems\u001b[0m\u001b[1;33m)\u001b[0m\u001b[1;33m:\u001b[0m\u001b[1;33m\u001b[0m\u001b[1;33m\u001b[0m\u001b[0m\n",
      "\u001b[1;32m~\\Desktop\\Trabajos\\4º\\IA\\Prácticas\\aima-python\\utils.py\u001b[0m in \u001b[0;36mmemoized_fn\u001b[1;34m(obj, *args)\u001b[0m\n\u001b[0;32m    415\u001b[0m                 \u001b[1;32mreturn\u001b[0m \u001b[0mgetattr\u001b[0m\u001b[1;33m(\u001b[0m\u001b[0mobj\u001b[0m\u001b[1;33m,\u001b[0m \u001b[0mslot\u001b[0m\u001b[1;33m)\u001b[0m\u001b[1;33m\u001b[0m\u001b[1;33m\u001b[0m\u001b[0m\n\u001b[0;32m    416\u001b[0m             \u001b[1;32melse\u001b[0m\u001b[1;33m:\u001b[0m\u001b[1;33m\u001b[0m\u001b[1;33m\u001b[0m\u001b[0m\n\u001b[1;32m--> 417\u001b[1;33m                 \u001b[0mval\u001b[0m \u001b[1;33m=\u001b[0m \u001b[0mfn\u001b[0m\u001b[1;33m(\u001b[0m\u001b[0mobj\u001b[0m\u001b[1;33m,\u001b[0m \u001b[1;33m*\u001b[0m\u001b[0margs\u001b[0m\u001b[1;33m)\u001b[0m\u001b[1;33m\u001b[0m\u001b[1;33m\u001b[0m\u001b[0m\n\u001b[0m\u001b[0;32m    418\u001b[0m                 \u001b[0msetattr\u001b[0m\u001b[1;33m(\u001b[0m\u001b[0mobj\u001b[0m\u001b[1;33m,\u001b[0m \u001b[0mslot\u001b[0m\u001b[1;33m,\u001b[0m \u001b[0mval\u001b[0m\u001b[1;33m)\u001b[0m\u001b[1;33m\u001b[0m\u001b[1;33m\u001b[0m\u001b[0m\n\u001b[0;32m    419\u001b[0m                 \u001b[1;32mreturn\u001b[0m \u001b[0mval\u001b[0m\u001b[1;33m\u001b[0m\u001b[1;33m\u001b[0m\u001b[0m\n",
      "\u001b[1;32m~\\Desktop\\Trabajos\\4º\\IA\\Prácticas\\aima-python\\search.py\u001b[0m in \u001b[0;36m<lambda>\u001b[1;34m(n)\u001b[0m\n\u001b[0;32m    418\u001b[0m     else in your Problem subclass.\"\"\"\n\u001b[0;32m    419\u001b[0m     \u001b[0mh\u001b[0m \u001b[1;33m=\u001b[0m \u001b[0mmemoize\u001b[0m\u001b[1;33m(\u001b[0m\u001b[0mh\u001b[0m \u001b[1;32mor\u001b[0m \u001b[0mproblem\u001b[0m\u001b[1;33m.\u001b[0m\u001b[0mh\u001b[0m\u001b[1;33m,\u001b[0m \u001b[1;34m'h'\u001b[0m\u001b[1;33m)\u001b[0m\u001b[1;33m\u001b[0m\u001b[1;33m\u001b[0m\u001b[0m\n\u001b[1;32m--> 420\u001b[1;33m     \u001b[1;32mreturn\u001b[0m \u001b[0mbest_first_graph_search\u001b[0m\u001b[1;33m(\u001b[0m\u001b[0mproblem\u001b[0m\u001b[1;33m,\u001b[0m \u001b[1;32mlambda\u001b[0m \u001b[0mn\u001b[0m\u001b[1;33m:\u001b[0m \u001b[0mn\u001b[0m\u001b[1;33m.\u001b[0m\u001b[0mpath_cost\u001b[0m \u001b[1;33m+\u001b[0m \u001b[0mh\u001b[0m\u001b[1;33m(\u001b[0m\u001b[0mn\u001b[0m\u001b[1;33m)\u001b[0m\u001b[1;33m,\u001b[0m \u001b[0mdisplay\u001b[0m\u001b[1;33m)\u001b[0m\u001b[1;33m\u001b[0m\u001b[1;33m\u001b[0m\u001b[0m\n\u001b[0m\u001b[0;32m    421\u001b[0m \u001b[1;33m\u001b[0m\u001b[0m\n\u001b[0;32m    422\u001b[0m \u001b[1;33m\u001b[0m\u001b[0m\n",
      "\u001b[1;32m~\\Desktop\\Trabajos\\4º\\IA\\Prácticas\\aima-python\\utils.py\u001b[0m in \u001b[0;36mmemoized_fn\u001b[1;34m(obj, *args)\u001b[0m\n\u001b[0;32m    415\u001b[0m                 \u001b[1;32mreturn\u001b[0m \u001b[0mgetattr\u001b[0m\u001b[1;33m(\u001b[0m\u001b[0mobj\u001b[0m\u001b[1;33m,\u001b[0m \u001b[0mslot\u001b[0m\u001b[1;33m)\u001b[0m\u001b[1;33m\u001b[0m\u001b[1;33m\u001b[0m\u001b[0m\n\u001b[0;32m    416\u001b[0m             \u001b[1;32melse\u001b[0m\u001b[1;33m:\u001b[0m\u001b[1;33m\u001b[0m\u001b[1;33m\u001b[0m\u001b[0m\n\u001b[1;32m--> 417\u001b[1;33m                 \u001b[0mval\u001b[0m \u001b[1;33m=\u001b[0m \u001b[0mfn\u001b[0m\u001b[1;33m(\u001b[0m\u001b[0mobj\u001b[0m\u001b[1;33m,\u001b[0m \u001b[1;33m*\u001b[0m\u001b[0margs\u001b[0m\u001b[1;33m)\u001b[0m\u001b[1;33m\u001b[0m\u001b[1;33m\u001b[0m\u001b[0m\n\u001b[0m\u001b[0;32m    418\u001b[0m                 \u001b[0msetattr\u001b[0m\u001b[1;33m(\u001b[0m\u001b[0mobj\u001b[0m\u001b[1;33m,\u001b[0m \u001b[0mslot\u001b[0m\u001b[1;33m,\u001b[0m \u001b[0mval\u001b[0m\u001b[1;33m)\u001b[0m\u001b[1;33m\u001b[0m\u001b[1;33m\u001b[0m\u001b[0m\n\u001b[0;32m    419\u001b[0m                 \u001b[1;32mreturn\u001b[0m \u001b[0mval\u001b[0m\u001b[1;33m\u001b[0m\u001b[1;33m\u001b[0m\u001b[0m\n",
      "\u001b[1;32m<ipython-input-5-9ca8fa70b1ab>\u001b[0m in \u001b[0;36mhTiempo\u001b[1;34m(self, node)\u001b[0m\n\u001b[0;32m    113\u001b[0m     \u001b[1;32mdef\u001b[0m \u001b[0mhTiempo\u001b[0m \u001b[1;33m(\u001b[0m\u001b[0mself\u001b[0m\u001b[1;33m,\u001b[0m \u001b[0mnode\u001b[0m\u001b[1;33m)\u001b[0m\u001b[1;33m:\u001b[0m\u001b[1;33m\u001b[0m\u001b[1;33m\u001b[0m\u001b[0m\n\u001b[0;32m    114\u001b[0m         \u001b[0mstate\u001b[0m \u001b[1;33m=\u001b[0m \u001b[0mnode\u001b[0m\u001b[1;33m.\u001b[0m\u001b[0mstate\u001b[0m\u001b[1;33m\u001b[0m\u001b[1;33m\u001b[0m\u001b[0m\n\u001b[1;32m--> 115\u001b[1;33m         \u001b[0mviajes\u001b[0m \u001b[1;33m=\u001b[0m \u001b[0mh\u001b[0m\u001b[1;33m(\u001b[0m\u001b[0mself\u001b[0m\u001b[1;33m,\u001b[0m \u001b[0mnode\u001b[0m\u001b[1;33m)\u001b[0m\u001b[1;33m\u001b[0m\u001b[1;33m\u001b[0m\u001b[0m\n\u001b[0m\u001b[0;32m    116\u001b[0m         \u001b[0mminTiempo\u001b[0m \u001b[1;33m=\u001b[0m \u001b[0mself\u001b[0m\u001b[1;33m.\u001b[0m\u001b[0mtiempos\u001b[0m\u001b[1;33m[\u001b[0m\u001b[1;36m0\u001b[0m\u001b[1;33m]\u001b[0m\u001b[1;33m\u001b[0m\u001b[1;33m\u001b[0m\u001b[0m\n\u001b[0;32m    117\u001b[0m \u001b[1;33m\u001b[0m\u001b[0m\n",
      "\u001b[1;31mNameError\u001b[0m: name 'h' is not defined"
     ]
    }
   ],
   "source": [
    "resuelve_p(p, astar_search, p.hTiempo)"
   ]
  },
  {
   "cell_type": "code",
   "execution_count": null,
   "metadata": {},
   "outputs": [],
   "source": []
  }
 ],
 "metadata": {
  "kernelspec": {
   "display_name": "Python 3",
   "language": "python",
   "name": "python3"
  },
  "language_info": {
   "codemirror_mode": {
    "name": "ipython",
    "version": 3
   },
   "file_extension": ".py",
   "mimetype": "text/x-python",
   "name": "python",
   "nbconvert_exporter": "python",
   "pygments_lexer": "ipython3",
   "version": "3.8.3"
  }
 },
 "nbformat": 4,
 "nbformat_minor": 4
}
