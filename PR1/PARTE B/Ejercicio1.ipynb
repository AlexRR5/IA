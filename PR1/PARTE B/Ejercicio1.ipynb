{
 "cells": [
  {
   "cell_type": "markdown",
   "metadata": {},
   "source": [
    "ENUNCIADO\n",
    "Un grupo de 5 personas quiere cruzar un viejo y estrecho puente. Es una noche\n",
    "cerrada y se necesita llevar una linterna para cruzar. El grupo solo dispone de\n",
    "una linterna, a la que le quedan 5 minutos de batería.\n",
    "    1. Cada persona tarda en cruzar 10, 30, 60, 80 y 120 segundos,\n",
    "        respectivamente.\n",
    "    2. El puente solo resiste un máximo de 2 personas cruzando a la vez, y\n",
    "        cuando cruzan dos personas juntas, caminan a la velocidad del más lento.\n",
    "    3. No se puede lanzar la linterna de un extremo a otro del puente, así que\n",
    "        cada vez que crucen dos personas, alguien tiene que volver a cruzar hacia\n",
    "        atrás con la linterna a buscar a los compañeros que falten, y así hasta que\n",
    "        hayan cruzado todos."
   ]
  },
  {
   "cell_type": "markdown",
   "metadata": {},
   "source": [
    "RESOLUCION"
   ]
  },
  {
   "cell_type": "markdown",
   "metadata": {},
   "source": [
    "La entrada consiste en el número de personas, así como sus respectivos tiempos de cruce y la duración de la linterna.\n",
    "El estado va a ser un array de tamaño k=\"personas\" + 2;\n",
    "    1. Las primeras \"personas\" posiciones se corresponden a la orilla en la que se encuentra la persona (0 es que se encuentra en la orilla inicio y 1 en la orilla final).\n",
    "    2. La siguiente posición (state[personas]) es la orilla en la que está la linterna.\n",
    "    3. La última posición se corresponde que el tiempo que le queda a la linterna para que se apague. Obviamente la solución será válida si han cruzado todos y dicho tiempo es >= 0"
   ]
  },
  {
   "cell_type": "code",
   "execution_count": 1,
   "metadata": {},
   "outputs": [
    {
     "name": "stdout",
     "output_type": "stream",
     "text": [
      "C:\\Users\\david\n"
     ]
    }
   ],
   "source": [
    "cd \n"
   ]
  },
  {
   "cell_type": "code",
   "execution_count": 2,
   "metadata": {},
   "outputs": [
    {
     "name": "stdout",
     "output_type": "stream",
     "text": [
      "C:\\Users\\david\\Desktop\\Trabajos\\4º\\IA\n"
     ]
    }
   ],
   "source": [
    "cd \\Users\\david\\Desktop\\Trabajos\\4º\\IA\n"
   ]
  },
  {
   "cell_type": "code",
   "execution_count": 3,
   "metadata": {},
   "outputs": [
    {
     "name": "stdout",
     "output_type": "stream",
     "text": [
      "C:\\Users\\david\\Desktop\\Trabajos\\4º\\IA\\aima-python\n"
     ]
    }
   ],
   "source": [
    "cd aima-python\n"
   ]
  },
  {
   "cell_type": "code",
   "execution_count": 4,
   "metadata": {},
   "outputs": [],
   "source": [
    "from search import *\n",
    "from search import breadth_first_tree_search, depth_first_tree_search, depth_first_graph_search, breadth_first_graph_search"
   ]
  },
  {
   "cell_type": "code",
   "execution_count": 87,
   "metadata": {},
   "outputs": [],
   "source": [
    "import math\n",
    "\n",
    "class Problema1 (Problem):\n",
    "    \n",
    "    \n",
    "    def __init__(self, personas, tiempos, tLimite, goal=None):\n",
    "        self.tiempos = tiempos\n",
    "        self.personas = personas\n",
    "        \n",
    "        initial = [0 for n in range (0,personas+1)]\n",
    "        initial.append(tLimite)\n",
    "        self.initial = tuple(initial)\n",
    "        \n",
    "        goal=[1 for n in range (0,personas+1)]\n",
    "        goal.append(0)\n",
    "        self.goal = tuple(goal)\n",
    "        \n",
    "        self._actions = [(\"Cruza la persona %d\"%i,(i,0)) for i in range (1,personas + 1)]\n",
    "        self._actions += [(\"Cruzan las personas %d y %d\"%(i,j),(i,j)) for i in range (1,personas + 1) for j in range (i+1,personas + 1)]\n",
    "        \n",
    "    def actions(self, s):\n",
    "        valido = True\n",
    "        lista = []\n",
    "        \n",
    "        for a in self._actions:\n",
    "            if a[1][1] == 0:#Un 0 en la segunda poscion de la tupla que indica que dos personas cruzan significa que sólo cruza una\n",
    "                valido = s[a[1][0] - 1] == s[self.personas]#para comprobar que el que se mueve esta en la misma orilla que la linterna\n",
    "                valido = valido and (s[self.personas + 1] - self.tiempos[a[1][0] - 1])>=0 #para comprobar que todavia tenemos tiempo para que puedan cruzar la personas\n",
    "            else:\n",
    "                valido = s[a[1][0] - 1] == s[a[1][1] - 1] == s[self.personas]\n",
    "                valido = valido and (s[self.personas + 1] - max(self.tiempos[a[1][0] - 1],self.tiempos[a[1][1] - 1]))>=0\n",
    "                \n",
    "            if valido:\n",
    "                lista.append(a)\n",
    "                \n",
    "        return lista\n",
    "    '''\n",
    "    Cada vez que se mete en is valid modifica el estado actual, por lo que las comporbaciones despues de la primera vez son erroneas\n",
    "     def _is_valid(self, s):\n",
    "        valido = True\n",
    "        for i in range (0, self.personas + 1):\n",
    "            if not(0 <= s[i] <= 1):\n",
    "                valido = False\n",
    "                \n",
    "        if s[self.personas + 1]<0:\n",
    "            valido = False\n",
    "        \n",
    "        return valido\n",
    "    \n",
    "    '''\n",
    "   \n",
    "    \n",
    "    def result(self, s, a):\n",
    "        l = list(s)\n",
    "        maximo = self.tiempos[a[1][0]-1]\n",
    "        if l[self.personas] == 0:\n",
    "            l[a[1][0] - 1] += 1 #actualiza el que se mueve\n",
    "            l[self.personas] += 1 #actualiza la linterna\n",
    "            \n",
    "            if a[1][1] != 0:\n",
    "                maximo = max(maximo,self.tiempos[a[1][1]-1])\n",
    "                l[a[1][1] - 1] += 1\n",
    "            \n",
    "        else:\n",
    "            l[self.personas] -= 1\n",
    "            l[a[1][0] - 1] -= 1\n",
    "            \n",
    "            if a[1][1] != 0:\n",
    "                maximo = max(maximo,self.tiempos[a[1][1]-1])\n",
    "                l[a[1][1] - 1] -= 1\n",
    "        \n",
    "        l[self.personas + 1] -= maximo #actualiza el tiempo\n",
    "                \n",
    "        return tuple(l)\n",
    "    \n",
    "    def goal_test(self, state):\n",
    "        i = 0\n",
    "        while i < self.personas+1:\n",
    "            if state[i] != self.goal[i]:\n",
    "                return False\n",
    "            i += 1\n",
    "            \n",
    "        return state[i]>=0\n",
    "    \n",
    "\n",
    "    def h(self, node):\n",
    "        state = node.state\n",
    "        min = 0\n",
    "\n",
    "        for i in range(0, self.personas-1):\n",
    "            if state[i] == state[self.personas]:\n",
    "                if (self.tiempos[i] < min):\n",
    "                    min = self.tiempos\n",
    "\n",
    "        return min\n",
    "    "
   ]
  },
  {
   "cell_type": "code",
   "execution_count": 88,
   "metadata": {},
   "outputs": [],
   "source": [
    "p=Problema1(5,[10,30,60,80,120],5*60)"
   ]
  },
  {
   "cell_type": "code",
   "execution_count": 90,
   "metadata": {},
   "outputs": [
    {
     "data": {
      "text/plain": [
       "[('Cruzan las personas 1 y 2', (1, 2)),\n",
       " ('Cruza la persona 1', (1, 0)),\n",
       " ('Cruzan las personas 1 y 3', (1, 3)),\n",
       " ('Cruza la persona 1', (1, 0)),\n",
       " ('Cruzan las personas 4 y 5', (4, 5)),\n",
       " ('Cruza la persona 2', (2, 0)),\n",
       " ('Cruzan las personas 1 y 2', (1, 2))]"
      ]
     },
     "execution_count": 90,
     "metadata": {},
     "output_type": "execute_result"
    }
   ],
   "source": [
    "breadth_first_graph_search(p).solution()"
   ]
  },
  {
   "cell_type": "code",
   "execution_count": 91,
   "metadata": {},
   "outputs": [
    {
     "data": {
      "text/plain": [
       "[('Cruzan las personas 1 y 3', (1, 3)),\n",
       " ('Cruza la persona 1', (1, 0)),\n",
       " ('Cruzan las personas 1 y 2', (1, 2)),\n",
       " ('Cruza la persona 2', (2, 0)),\n",
       " ('Cruzan las personas 4 y 5', (4, 5)),\n",
       " ('Cruza la persona 1', (1, 0)),\n",
       " ('Cruzan las personas 1 y 2', (1, 2))]"
      ]
     },
     "execution_count": 91,
     "metadata": {},
     "output_type": "execute_result"
    }
   ],
   "source": [
    "depth_first_graph_search(p).solution()"
   ]
  },
  {
   "cell_type": "code",
   "execution_count": 92,
   "metadata": {},
   "outputs": [
    {
     "data": {
      "text/plain": [
       "[('Cruzan las personas 1 y 3', (1, 3)),\n",
       " ('Cruza la persona 1', (1, 0)),\n",
       " ('Cruzan las personas 1 y 2', (1, 2)),\n",
       " ('Cruza la persona 1', (1, 0)),\n",
       " ('Cruzan las personas 4 y 5', (4, 5)),\n",
       " ('Cruza la persona 2', (2, 0)),\n",
       " ('Cruzan las personas 1 y 2', (1, 2))]"
      ]
     },
     "execution_count": 92,
     "metadata": {},
     "output_type": "execute_result"
    }
   ],
   "source": [
    "uniform_cost_search(p).solution()"
   ]
  },
  {
   "cell_type": "code",
   "execution_count": 93,
   "metadata": {},
   "outputs": [
    {
     "data": {
      "text/plain": [
       "[('Cruzan las personas 1 y 3', (1, 3)),\n",
       " ('Cruza la persona 1', (1, 0)),\n",
       " ('Cruzan las personas 1 y 2', (1, 2)),\n",
       " ('Cruza la persona 1', (1, 0)),\n",
       " ('Cruzan las personas 4 y 5', (4, 5)),\n",
       " ('Cruza la persona 2', (2, 0)),\n",
       " ('Cruzan las personas 1 y 2', (1, 2))]"
      ]
     },
     "execution_count": 93,
     "metadata": {},
     "output_type": "execute_result"
    }
   ],
   "source": [
    "astar_search(p).solution()"
   ]
  },
  {
   "cell_type": "code",
   "execution_count": 111,
   "metadata": {},
   "outputs": [
    {
     "data": {
      "text/plain": [
       "[('Cruzan las personas 1 y 2', (1, 2)),\n",
       " ('Cruza la persona 1', (1, 0)),\n",
       " ('Cruzan las personas 4 y 5', (4, 5)),\n",
       " ('Cruza la persona 2', (2, 0)),\n",
       " ('Cruzan las personas 1 y 3', (1, 3)),\n",
       " ('Cruza la persona 1', (1, 0)),\n",
       " ('Cruzan las personas 1 y 2', (1, 2))]"
      ]
     },
     "execution_count": 111,
     "metadata": {},
     "output_type": "execute_result"
    }
   ],
   "source": [
    "best_first_graph_search(p, p.h).solution()"
   ]
  },
  {
   "cell_type": "markdown",
   "metadata": {},
   "source": [
    "Las cinco búsquedas son instántaneas"
   ]
  },
  {
   "cell_type": "code",
   "execution_count": 94,
   "metadata": {},
   "outputs": [],
   "source": [
    "# Hacemos una definición ampliada de la clase Problem de AIMA que nos va a permitir experimentar con distintos\n",
    "# estados iniciales, algoritmos y heurísticas, para resolver el 8-puzzle. \n",
    "# The solvability of a configuration can be checked by calculating the Inversion Permutation. If the total Inversion Permutation is even then the initial configuration is solvable else the initial configuration is not solvable which means that only 9!/2 initial states lead to a solution.\n",
    "# Añadimos en la clase ampliada la capacidad para contar el número de nodos analizados durante la\n",
    "# búsqueda:\n",
    "\n",
    "\n",
    "class Problema_con_Analizados(Problem):\n",
    "\n",
    "    \"\"\"Es un problema que se comporta exactamente igual que el que recibe al\n",
    "       inicializarse, y además incorpora unos atributos nuevos para almacenar el\n",
    "       número de nodos analizados durante la búsqueda. De esta manera, no\n",
    "       tenemos que modificar el código del algoritmo de búsqueda.\"\"\" \n",
    "         \n",
    "    def __init__(self, problem):\n",
    "        self.initial = problem.initial\n",
    "        self.problem = problem\n",
    "        self.analizados  = 0\n",
    "        self.goal = problem.goal\n",
    "\n",
    "    def actions(self, estado):\n",
    "        return self.problem.actions(estado)\n",
    "\n",
    "    def result(self, estado, accion):\n",
    "        return self.problem.result(estado, accion)\n",
    "\n",
    "    def goal_test(self, estado):\n",
    "        self.analizados += 1\n",
    "        return self.problem.goal_test(estado)\n",
    "\n",
    "    def coste_de_aplicar_accion(self, estado, accion):\n",
    "        return self.problem.coste_de_aplicar_accion(estado,accion)\n",
    "    \n",
    "    def check_solvability(self, state):\n",
    "        \"\"\" Checks if the given state is solvable \"\"\"\n",
    "\n",
    "        inversion = 0\n",
    "        for i in range(len(state)):\n",
    "            for j in range(i+1, len(state)):\n",
    "                if (state[i] > state[j]) and state[i] != 0 and state[j]!= 0:\n",
    "                    inversion += 1\n",
    "        \n",
    "        return inversion % 2 == 0        "
   ]
  },
  {
   "cell_type": "code",
   "execution_count": 100,
   "metadata": {},
   "outputs": [],
   "source": [
    "def resuelve_p(problem, algoritmo, h=None):\n",
    "\n",
    "    p=Problema_con_Analizados(problem)\n",
    "    if h: \n",
    "        sol= algoritmo(p,h).solution()\n",
    "    else: \n",
    "        sol= algoritmo(p).solution()\n",
    "    print(\"Solución: {0}\".format(sol))\n",
    "    print(\"Algoritmo: {0}\".format(algoritmo.__name__))\n",
    "    if h: \n",
    "        print(\"Heurística: {0}\".format(h.__name__))\n",
    "    else:\n",
    "        pass\n",
    "    print(\"Longitud de la solución: {0}. Nodos analizados: {1}\".format(len(sol),p.analizados))\n",
    "  "
   ]
  },
  {
   "cell_type": "code",
   "execution_count": 101,
   "metadata": {},
   "outputs": [
    {
     "name": "stdout",
     "output_type": "stream",
     "text": [
      "Solución: [('Cruzan las personas 1 y 3', (1, 3)), ('Cruza la persona 1', (1, 0)), ('Cruzan las personas 1 y 2', (1, 2)), ('Cruza la persona 1', (1, 0)), ('Cruzan las personas 4 y 5', (4, 5)), ('Cruza la persona 2', (2, 0)), ('Cruzan las personas 1 y 2', (1, 2))]\n",
      "Algoritmo: astar_search\n",
      "Heurística: h\n",
      "Longitud de la solución: 7. Nodos analizados: 720\n"
     ]
    }
   ],
   "source": [
    "resuelve_p(p, astar_search, p.h)"
   ]
  },
  {
   "cell_type": "code",
   "execution_count": 103,
   "metadata": {},
   "outputs": [
    {
     "name": "stdout",
     "output_type": "stream",
     "text": [
      "Solución: [('Cruzan las personas 1 y 2', (1, 2)), ('Cruza la persona 1', (1, 0)), ('Cruzan las personas 4 y 5', (4, 5)), ('Cruza la persona 2', (2, 0)), ('Cruzan las personas 1 y 3', (1, 3)), ('Cruza la persona 1', (1, 0)), ('Cruzan las personas 1 y 2', (1, 2))]\n",
      "Algoritmo: best_first_graph_search\n",
      "Heurística: h\n",
      "Longitud de la solución: 7. Nodos analizados: 745\n"
     ]
    }
   ],
   "source": [
    "resuelve_p(p, best_first_graph_search, p.h)"
   ]
  },
  {
   "cell_type": "code",
   "execution_count": 105,
   "metadata": {},
   "outputs": [
    {
     "name": "stdout",
     "output_type": "stream",
     "text": [
      "Solución: [('Cruzan las personas 1 y 2', (1, 2)), ('Cruza la persona 1', (1, 0)), ('Cruzan las personas 1 y 3', (1, 3)), ('Cruza la persona 1', (1, 0)), ('Cruzan las personas 4 y 5', (4, 5)), ('Cruza la persona 2', (2, 0)), ('Cruzan las personas 1 y 2', (1, 2))]\n",
      "Algoritmo: breadth_first_graph_search\n",
      "Longitud de la solución: 7. Nodos analizados: 720\n"
     ]
    }
   ],
   "source": [
    "resuelve_p(p, breadth_first_graph_search)"
   ]
  },
  {
   "cell_type": "code",
   "execution_count": 106,
   "metadata": {},
   "outputs": [
    {
     "name": "stdout",
     "output_type": "stream",
     "text": [
      "Solución: [('Cruzan las personas 1 y 3', (1, 3)), ('Cruza la persona 1', (1, 0)), ('Cruzan las personas 1 y 2', (1, 2)), ('Cruza la persona 2', (2, 0)), ('Cruzan las personas 4 y 5', (4, 5)), ('Cruza la persona 1', (1, 0)), ('Cruzan las personas 1 y 2', (1, 2))]\n",
      "Algoritmo: depth_first_graph_search\n",
      "Longitud de la solución: 7. Nodos analizados: 610\n"
     ]
    }
   ],
   "source": [
    "resuelve_p(p, depth_first_graph_search)"
   ]
  },
  {
   "cell_type": "code",
   "execution_count": 107,
   "metadata": {},
   "outputs": [
    {
     "name": "stdout",
     "output_type": "stream",
     "text": [
      "Solución: [('Cruzan las personas 1 y 3', (1, 3)), ('Cruza la persona 1', (1, 0)), ('Cruzan las personas 1 y 2', (1, 2)), ('Cruza la persona 1', (1, 0)), ('Cruzan las personas 4 y 5', (4, 5)), ('Cruza la persona 2', (2, 0)), ('Cruzan las personas 1 y 2', (1, 2))]\n",
      "Algoritmo: uniform_cost_search\n",
      "Longitud de la solución: 7. Nodos analizados: 720\n"
     ]
    }
   ],
   "source": [
    "resuelve_p(p, uniform_cost_search)"
   ]
  },
  {
   "cell_type": "code",
   "execution_count": null,
   "metadata": {},
   "outputs": [],
   "source": []
  }
 ],
 "metadata": {
  "kernelspec": {
   "display_name": "Python 3",
   "language": "python",
   "name": "python3"
  },
  "language_info": {
   "codemirror_mode": {
    "name": "ipython",
    "version": 3
   },
   "file_extension": ".py",
   "mimetype": "text/x-python",
   "name": "python",
   "nbconvert_exporter": "python",
   "pygments_lexer": "ipython3",
   "version": "3.8.3"
  }
 },
 "nbformat": 4,
 "nbformat_minor": 4
}
