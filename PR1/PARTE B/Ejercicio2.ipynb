{
 "cells": [
  {
   "cell_type": "markdown",
   "metadata": {},
   "source": [
    "ENUNCIADO\n",
    "En el siguiente puzle infantil se pide rellenar los espacios en blanco\n",
    "con números del 1 al 9 de tal modo que la ecuación sea correcta siguiendo el\n",
    "orden de las operaciones. Los números no pueden repetirse. Es decir, en cada\n",
    "uno de los 9 huecos en blancos deberá ir un número sin repetirse. Según\n",
    "declaraciones del profesor Tran Phuong existen 362.880 combinaciones\n",
    "posibles para colocar los 9 dígitos en los 9 espacios en blanco, pero sólo unas\n",
    "pocas son correctas"
   ]
  },
  {
   "cell_type": "markdown",
   "metadata": {},
   "source": [
    "RESOLUCION"
   ]
  },
  {
   "cell_type": "markdown",
   "metadata": {},
   "source": [
    "La entrada que recibe el problema es un array que representa la ecuacion:\n",
    "1)Los huecos se representan mediante 0\n",
    "2)Ejemplo [0,\"+\",5,\"=\",7]\n",
    "3) Los numeros caen siempre en las posiciones pares, mientras que los operadores en las posiciones impares"
   ]
  },
  {
   "cell_type": "code",
   "execution_count": 1,
   "metadata": {},
   "outputs": [
    {
     "name": "stdout",
     "output_type": "stream",
     "text": [
      "C:\\Users\\aleja\\Google Drive\\4o\\INFORMATICA\\INTELIGENCIA ARTIFICIAL\\PRACTICAS\\PR1\n"
     ]
    }
   ],
   "source": [
    "cd .."
   ]
  },
  {
   "cell_type": "code",
   "execution_count": 2,
   "metadata": {},
   "outputs": [
    {
     "name": "stdout",
     "output_type": "stream",
     "text": [
      "C:\\Users\\aleja\\Google Drive\\4o\\INFORMATICA\\INTELIGENCIA ARTIFICIAL\\PRACTICAS\n"
     ]
    }
   ],
   "source": [
    "cd .."
   ]
  },
  {
   "cell_type": "code",
   "execution_count": 3,
   "metadata": {},
   "outputs": [
    {
     "name": "stdout",
     "output_type": "stream",
     "text": [
      "C:\\Users\\aleja\\Google Drive\\4o\\INFORMATICA\\INTELIGENCIA ARTIFICIAL\\PRACTICAS\\aima-python\n"
     ]
    }
   ],
   "source": [
    "cd aima-python"
   ]
  },
  {
   "cell_type": "code",
   "execution_count": 4,
   "metadata": {},
   "outputs": [],
   "source": [
    "from search import *\n",
    "from search import breadth_first_tree_search, depth_first_tree_search, depth_first_graph_search, breadth_first_graph_search"
   ]
  },
  {
   "cell_type": "code",
   "execution_count": 5,
   "metadata": {},
   "outputs": [],
   "source": [
    "class Puzzle_Numeros (Problem):\n",
    "    \n",
    "    def __init__(self,ec):\n",
    "        '''\n",
    "        El estado es un array en el que las 9 primeras pos indican si hemos usado el numero o no.\n",
    "        La siguiente es el indice por el que vamos en la ecuacion\n",
    "        La penultima es el ultimo operador visitado y la ultima es el valor actual calculado.\n",
    "        Necesitamos guardar el ultimo operador para poder calcular en tiempo constante el valor actual, pues imaginemos que\n",
    "        tenemos 5 + _ = 7\n",
    "        Primero ejecutariamos la accion avanzar, que me llevaria hasta el siguiente hueco y cuyo valor actual es 5.\n",
    "        Para saber que operacion hay que llevar a cabo sobre el hueco debemos guardar el operador \"+\"\n",
    "        '''\n",
    "        self.initial = (0,0,0,0,0,0,0,0,0,0,\"+\",0)\n",
    "        self.goal = (1,1,1,1,1,1,1,1,1,len(ec)-1,\"=\",ec[len(ec)-1])\n",
    "        self.ecuacion=ec\n",
    "\n",
    "    def actions(self, state):\n",
    "        if(state[9]<(len(self.ecuacion)-1) and state[9]%2==0): #Quedan elementos por comprobar, y estamos en un numero\n",
    "            if(self.ecuacion[state[9]]==0):\n",
    "                return [(\"aplicar %d en hueco situado en posicion %d\"%(n,state[9]),n) for n in range (1,10) if state[n-1]==0]\n",
    "                #return [n for n in range (1,10) if state[n-1]==0]\n",
    "            else: return [(\"avanzar hasta siguiente hueco\",0)]\n",
    "                #return [0]\n",
    "        else: return []\n",
    "\n",
    "    def result(self, state, action):\n",
    "        '''\n",
    "        Hay dos tipos de acciones, aquellas en las que solo tenemos que avanzar hasta el proximo hueco\n",
    "        Y en las que tenemos que asignar un numero a un hueco.\n",
    "        Las podemos diferenciar en el tamaño de la tupla:\n",
    "                    1) (\"nombre\",0):Avanzar\n",
    "                    2) (\"nombre\",numero a asignar)\n",
    "        '''\n",
    "        #n=action\n",
    "        n=action[1]\n",
    "        l=list(state)\n",
    "        if n==0: #Avanzar hasta el proximo hueco\n",
    "            i=l[9]\n",
    "            while self.ecuacion[i]!=0 and i<(len(self.ecuacion)-1):\n",
    "                #Primero operamos el elemento actual\n",
    "                #Despues avanzamos al siguiente numero, guardando el operador que nos saltamos.\n",
    "                if l[10]==\"+\":\n",
    "                    l[11]+=self.ecuacion[i]\n",
    "                elif l[10]==\"-\":\n",
    "                    l[11]-=self.ecuacion[i]\n",
    "                elif l[10]==\"x\":\n",
    "                    l[11]=l[11]*self.ecuacion[i]\n",
    "                elif l [10]==\":\":\n",
    "                    l[11]=l[11]/self.ecuacion[i]\n",
    "               #Nunca se va a meter en el igual, pues saldremos del bucle en la condicion state[9]=len(ec)  \n",
    "                l[10]=self.ecuacion[i+1]\n",
    "                i+=2\n",
    "            l[9]=i  \n",
    "        else: # Asignamos en el hueco el numero\n",
    "            if l[10]==\"+\":\n",
    "                l[11] += n\n",
    "            elif l[10]==\"-\":\n",
    "                l[11]-= n\n",
    "            elif l[10]==\"x\":\n",
    "                l[11]=l[11]* n\n",
    "            elif l[10]==\":\":\n",
    "                l[11]=l[11]/ n\n",
    "            l[10]=self.ecuacion[l[9]+1]\n",
    "            l[9]+=2\n",
    "            l[n-1]=1 #Marcamos como ya usado el nmero indicado por la acción\n",
    "        return tuple(l)\n",
    "            \n",
    "            \n",
    "    def goal_test(self, state):\n",
    "        \"\"\"Return True if the state is a goal. The default method compares the\n",
    "        state to self.goal or checks for state in self.goal if it is a\n",
    "        list, as specified in the constructor. Override this method if\n",
    "        checking against a single self.goal is not enough.\"\"\"\n",
    "        if isinstance(self.goal, list):\n",
    "            return is_in(state, self.goal)\n",
    "        else:\n",
    "            return state == self.goal"
   ]
  },
  {
   "cell_type": "code",
   "execution_count": 6,
   "metadata": {},
   "outputs": [],
   "source": [
    "p=Puzzle_Numeros([0,\"+\",13,\"x\",0,\":\",0,\"+\",0,\"+\",12,\"x\",0,\"-\",0,\"-\",11,\"+\",0,\"x\",0,\":\",0,\"-\",10,\"=\",66])\n"
   ]
  },
  {
   "cell_type": "code",
   "execution_count": 7,
   "metadata": {},
   "outputs": [
    {
     "data": {
      "text/plain": [
       "[('aplicar 9 en hueco situado en posicion 0', 9),\n",
       " ('avanzar hasta siguiente hueco', 0),\n",
       " ('aplicar 7 en hueco situado en posicion 4', 7),\n",
       " ('aplicar 2 en hueco situado en posicion 6', 2),\n",
       " ('aplicar 8 en hueco situado en posicion 8', 8),\n",
       " ('avanzar hasta siguiente hueco', 0),\n",
       " ('aplicar 4 en hueco situado en posicion 12', 4),\n",
       " ('aplicar 3 en hueco situado en posicion 14', 3),\n",
       " ('avanzar hasta siguiente hueco', 0),\n",
       " ('aplicar 6 en hueco situado en posicion 18', 6),\n",
       " ('aplicar 1 en hueco situado en posicion 20', 1),\n",
       " ('aplicar 5 en hueco situado en posicion 22', 5),\n",
       " ('avanzar hasta siguiente hueco', 0)]"
      ]
     },
     "execution_count": 7,
     "metadata": {},
     "output_type": "execute_result"
    }
   ],
   "source": [
    "depth_first_graph_search(p).solution()"
   ]
  },
  {
   "cell_type": "code",
   "execution_count": 8,
   "metadata": {},
   "outputs": [
    {
     "ename": "KeyboardInterrupt",
     "evalue": "",
     "output_type": "error",
     "traceback": [
      "\u001b[1;31m---------------------------------------------------------------------------\u001b[0m",
      "\u001b[1;31mKeyboardInterrupt\u001b[0m                         Traceback (most recent call last)",
      "\u001b[1;32m<ipython-input-8-86aaacc40e6e>\u001b[0m in \u001b[0;36m<module>\u001b[1;34m\u001b[0m\n\u001b[1;32m----> 1\u001b[1;33m \u001b[0mbreadth_first_graph_search\u001b[0m\u001b[1;33m(\u001b[0m\u001b[0mp\u001b[0m\u001b[1;33m)\u001b[0m\u001b[1;33m.\u001b[0m\u001b[0msolution\u001b[0m\u001b[1;33m(\u001b[0m\u001b[1;33m)\u001b[0m\u001b[1;33m\u001b[0m\u001b[1;33m\u001b[0m\u001b[0m\n\u001b[0m",
      "\u001b[1;32m~\\Google Drive\\4o\\INFORMATICA\\INTELIGENCIA ARTIFICIAL\\PRACTICAS\\aima-python\\search.py\u001b[0m in \u001b[0;36mbreadth_first_graph_search\u001b[1;34m(problem)\u001b[0m\n\u001b[0;32m    251\u001b[0m         \u001b[0mexplored\u001b[0m\u001b[1;33m.\u001b[0m\u001b[0madd\u001b[0m\u001b[1;33m(\u001b[0m\u001b[0mnode\u001b[0m\u001b[1;33m.\u001b[0m\u001b[0mstate\u001b[0m\u001b[1;33m)\u001b[0m\u001b[1;33m\u001b[0m\u001b[1;33m\u001b[0m\u001b[0m\n\u001b[0;32m    252\u001b[0m         \u001b[1;32mfor\u001b[0m \u001b[0mchild\u001b[0m \u001b[1;32min\u001b[0m \u001b[0mnode\u001b[0m\u001b[1;33m.\u001b[0m\u001b[0mexpand\u001b[0m\u001b[1;33m(\u001b[0m\u001b[0mproblem\u001b[0m\u001b[1;33m)\u001b[0m\u001b[1;33m:\u001b[0m\u001b[1;33m\u001b[0m\u001b[1;33m\u001b[0m\u001b[0m\n\u001b[1;32m--> 253\u001b[1;33m             \u001b[1;32mif\u001b[0m \u001b[0mchild\u001b[0m\u001b[1;33m.\u001b[0m\u001b[0mstate\u001b[0m \u001b[1;32mnot\u001b[0m \u001b[1;32min\u001b[0m \u001b[0mexplored\u001b[0m \u001b[1;32mand\u001b[0m \u001b[0mchild\u001b[0m \u001b[1;32mnot\u001b[0m \u001b[1;32min\u001b[0m \u001b[0mfrontier\u001b[0m\u001b[1;33m:\u001b[0m\u001b[1;33m\u001b[0m\u001b[1;33m\u001b[0m\u001b[0m\n\u001b[0m\u001b[0;32m    254\u001b[0m                 \u001b[1;32mif\u001b[0m \u001b[0mproblem\u001b[0m\u001b[1;33m.\u001b[0m\u001b[0mgoal_test\u001b[0m\u001b[1;33m(\u001b[0m\u001b[0mchild\u001b[0m\u001b[1;33m.\u001b[0m\u001b[0mstate\u001b[0m\u001b[1;33m)\u001b[0m\u001b[1;33m:\u001b[0m\u001b[1;33m\u001b[0m\u001b[1;33m\u001b[0m\u001b[0m\n\u001b[0;32m    255\u001b[0m                     \u001b[1;32mreturn\u001b[0m \u001b[0mchild\u001b[0m\u001b[1;33m\u001b[0m\u001b[1;33m\u001b[0m\u001b[0m\n",
      "\u001b[1;32m~\\Google Drive\\4o\\INFORMATICA\\INTELIGENCIA ARTIFICIAL\\PRACTICAS\\aima-python\\search.py\u001b[0m in \u001b[0;36m__eq__\u001b[1;34m(self, other)\u001b[0m\n\u001b[0;32m    121\u001b[0m \u001b[1;33m\u001b[0m\u001b[0m\n\u001b[0;32m    122\u001b[0m     \u001b[1;32mdef\u001b[0m \u001b[0m__eq__\u001b[0m\u001b[1;33m(\u001b[0m\u001b[0mself\u001b[0m\u001b[1;33m,\u001b[0m \u001b[0mother\u001b[0m\u001b[1;33m)\u001b[0m\u001b[1;33m:\u001b[0m\u001b[1;33m\u001b[0m\u001b[1;33m\u001b[0m\u001b[0m\n\u001b[1;32m--> 123\u001b[1;33m         \u001b[1;32mreturn\u001b[0m \u001b[0misinstance\u001b[0m\u001b[1;33m(\u001b[0m\u001b[0mother\u001b[0m\u001b[1;33m,\u001b[0m \u001b[0mNode\u001b[0m\u001b[1;33m)\u001b[0m \u001b[1;32mand\u001b[0m \u001b[0mself\u001b[0m\u001b[1;33m.\u001b[0m\u001b[0mstate\u001b[0m \u001b[1;33m==\u001b[0m \u001b[0mother\u001b[0m\u001b[1;33m.\u001b[0m\u001b[0mstate\u001b[0m\u001b[1;33m\u001b[0m\u001b[1;33m\u001b[0m\u001b[0m\n\u001b[0m\u001b[0;32m    124\u001b[0m \u001b[1;33m\u001b[0m\u001b[0m\n\u001b[0;32m    125\u001b[0m     \u001b[1;32mdef\u001b[0m \u001b[0m__hash__\u001b[0m\u001b[1;33m(\u001b[0m\u001b[0mself\u001b[0m\u001b[1;33m)\u001b[0m\u001b[1;33m:\u001b[0m\u001b[1;33m\u001b[0m\u001b[1;33m\u001b[0m\u001b[0m\n",
      "\u001b[1;31mKeyboardInterrupt\u001b[0m: "
     ]
    }
   ],
   "source": [
    "breadth_first_graph_search(p).solution()"
   ]
  },
  {
   "cell_type": "code",
   "execution_count": null,
   "metadata": {},
   "outputs": [],
   "source": [
    "uniform_cost_search(p).solution()"
   ]
  },
  {
   "cell_type": "markdown",
   "metadata": {},
   "source": [
    " Tiene sentido que la busqueda en profundidad sea la mejor, pues todas las posibles soluciones están en las hojas del árbol de nodos, pues para obtener el resultado estamos obligado a colocar todos los números. De hecho, la búsqueda en profundidad va a tener que calcular más de 8! nodos para dar con la solución."
   ]
  },
  {
   "cell_type": "markdown",
   "metadata": {},
   "source": [
    " A pesar de que nuestro árbol requiere más de 9! estados por la acción adicional de \"avanzar\", el cálculo del goal_test es constante; mientras que si solo llevamos los numeros situados, en una ecuacion de longitud n desconocida, el cálculo del goal_test sería lineal, lo que a la larga puede ser peor."
   ]
  },
  {
   "cell_type": "code",
   "execution_count": null,
   "metadata": {},
   "outputs": [],
   "source": []
  }
 ],
 "metadata": {
  "kernelspec": {
   "display_name": "Python 3",
   "language": "python",
   "name": "python3"
  },
  "language_info": {
   "codemirror_mode": {
    "name": "ipython",
    "version": 3
   },
   "file_extension": ".py",
   "mimetype": "text/x-python",
   "name": "python",
   "nbconvert_exporter": "python",
   "pygments_lexer": "ipython3",
   "version": "3.8.3"
  }
 },
 "nbformat": 4,
 "nbformat_minor": 4
}
