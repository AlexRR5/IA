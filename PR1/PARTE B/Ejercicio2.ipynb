{
 "cells": [
  {
   "cell_type": "markdown",
   "metadata": {},
   "source": [
    "## ENUNCIADO\n",
    "En el siguiente puzzle infantil se pide rellenar los espacios en blanco\n",
    "con números del 1 al 9 de tal modo que la ecuación sea correcta siguiendo el\n",
    "orden de las operaciones. Los números no pueden repetirse. Es decir, en cada\n",
    "uno de los 9 huecos en blancos deberá ir un número sin repetirse. Según\n",
    "declaraciones del profesor Tran Phuong existen 362.880 combinaciones\n",
    "posibles para colocar los 9 dígitos en los 9 espacios en blanco, pero sólo unas\n",
    "pocas son correctas"
   ]
  },
  {
   "cell_type": "markdown",
   "metadata": {},
   "source": [
    "## ENTRADA\n",
    "La entrada que recibe el problema es un array que representa la ecuacion:\n",
    "    1. Los huecos se representan mediante \"X\"\n",
    "    2. Ejemplo [\"X\",\"+\",5,\"=\",7]\n",
    "    3. Los numeros caen siempre en las posiciones pares, mientras que los operadores en las posiciones impares"
   ]
  },
  {
   "cell_type": "markdown",
   "metadata": {},
   "source": [
    "## RESOLUCION\n",
    "El estado va a ser una tupla, de tamaño 9+1+1=11:\n",
    "    1. state[0]-state[8]: Las 9 primeras posiciones reflejan si el número ya ha sido usado (1) o no (0)\n",
    "    2. state[9]: Se refiere a la posición de la ecuación en la que nos encontramos actualmente.\n",
    "    3. state[10]: La última posición lleva el valor total hasta la posición state[9] - 2 en la ecuación.\n",
    "\n",
    "#### OBSERVACIONES\n",
    "    1.state[9] siempre va a ser par, pues solo puede referirse a números, y no a operadores.\n",
    "    2.Al asignar un número a un hueco, debemos operar: (valor hasta hueco) operator (número asignado en hueco). Dicho \n",
    "    operator se encuentra en la posición state[9] - 1. De inicio el operator debe ser \"+\", pues el primer número seria equivalente a 0 + número. Por ello, a la ecuación dada le añadimos al principio [0,\"+\"]. Además, esto permite tener un único tipo de acción, en vez de tener que divir en dos subacciones.\n",
    "\n",
    "#### ACCIONES\n",
    "La acción consiste en avanzar hasta próximo hueco y asignar número en dicho hueco. Como el primer elemento de nuestra ecuación nunca va a ser un hueco,(artificialmente hemos añadido [0,\"+\"..]), siempre vamos a poder llevar a acabo la acción hasta que lleguemos al final de la ecuación.\n",
    "Si el último hueco no se corresponde con el último operando en la ecuación, significa que debmos seguir operando hasta llegar \n",
    "al final sin asignar nada. Dicha acción se representa mediante el \"0\".\n",
    "Por lo tanto, el factor de ramificación es 9, aunque según vayamos colocando números pasamos a tener k hijos siendo k=9-númerosColocados "
   ]
  },
  {
   "cell_type": "code",
   "execution_count": 1,
   "metadata": {},
   "outputs": [
    {
     "name": "stdout",
     "output_type": "stream",
     "text": [
      "C:\\Users\\aleja\\Google Drive\\4o\\INFORMATICA\\INTELIGENCIA ARTIFICIAL\\PRACTICAS\\PR1\n"
     ]
    }
   ],
   "source": [
    "cd .."
   ]
  },
  {
   "cell_type": "code",
   "execution_count": 2,
   "metadata": {},
   "outputs": [
    {
     "name": "stdout",
     "output_type": "stream",
     "text": [
      "C:\\Users\\aleja\\Google Drive\\4o\\INFORMATICA\\INTELIGENCIA ARTIFICIAL\\PRACTICAS\n"
     ]
    }
   ],
   "source": [
    "cd .."
   ]
  },
  {
   "cell_type": "code",
   "execution_count": 3,
   "metadata": {},
   "outputs": [
    {
     "name": "stdout",
     "output_type": "stream",
     "text": [
      "C:\\Users\\aleja\\Google Drive\\4o\\INFORMATICA\\INTELIGENCIA ARTIFICIAL\\PRACTICAS\\aima-python\n"
     ]
    }
   ],
   "source": [
    "cd aima-python"
   ]
  },
  {
   "cell_type": "code",
   "execution_count": 13,
   "metadata": {},
   "outputs": [],
   "source": [
    "from search import *\n",
    "from search import breadth_first_tree_search, depth_first_tree_search, depth_first_graph_search, breadth_first_graph_search"
   ]
  },
  {
   "cell_type": "code",
   "execution_count": 33,
   "metadata": {},
   "outputs": [],
   "source": [
    "class Puzzle_Numeros (Problem):\n",
    "    \n",
    "    def __init__(self,ec):\n",
    "        self.initial = (0,0,0,0,0,0,0,0,0,2,0)\n",
    "        self.ecuation=[0,\"+\"]+ec\n",
    "        self.goal = (1,1,1,1,1,1,1,1,1,len(self.ecuation)-1,self.ecuation[len(self.ecuation)-1])\n",
    "    \n",
    "    def actions(self, state):\n",
    "        if (state[9]<(len(self.ecuation)-1) and state[9]%2==0): #Quedan elementos por comprobar, y estamos en un número\n",
    "            l=[n for n in range (1,10) if state[n-1]==0]\n",
    "            if l==[]: #Quedan números por operar en la ecuación, pero ya no tenemos más huecos\n",
    "                l.append(0)\n",
    "            return l\n",
    "        else: return []\n",
    "\n",
    "    def result(self, state, action):\n",
    "        n=action\n",
    "        l=list(state)\n",
    "        if n>0:\n",
    "            l[n-1]=1 #Marcamos como ya usado el número indicado por la acción\n",
    "        i=l[9]\n",
    "        stop=False\n",
    "        #Primero avanzamos hasta el próximo hueco.\n",
    "        #Después asignamos el número n al hueco correspondiente. Si n=0 nos saltamos este paso, pues hemos llegado al final.\n",
    "        while (i<(len(self.ecuation)-1) and (not stop)):       \n",
    "            if self.ecuation[i]==\"X\":\n",
    "                x=n\n",
    "                stop=True\n",
    "            else:\n",
    "                x=self.ecuation[i]\n",
    "            if self.ecuation[i-1]==\"+\":\n",
    "                l[10]+=x\n",
    "            elif self.ecuation[i-1]==\"-\":\n",
    "                l[10]-=x\n",
    "            elif self.ecuation[i-1]==\"*\":\n",
    "                l[10]=l[10]*x\n",
    "            elif self.ecuation[i-1]==\":\":\n",
    "                l[10]=l[10]/x\n",
    "             #Nunca se va a meter en el igual, pues en ese caso i=len(self.ecuacion)-1, por lo que nos saldríamos del bucle\n",
    "            i+=2\n",
    "        l[9]=i     \n",
    "        return tuple(l)\n",
    "    \n",
    "    def goal_test(self, state):\n",
    "        \"\"\"Return True if the state is a goal. The default method compares the\n",
    "        state to self.goal or checks for state in self.goal if it is a\n",
    "        list, as specified in the constructor. Override this method if\n",
    "        checking against a single self.goal is not enough.\"\"\"\n",
    "        if isinstance(self.goal, list):\n",
    "            return is_in(state, self.goal)\n",
    "        else:\n",
    "            return state == self.goal"
   ]
  },
  {
   "cell_type": "code",
   "execution_count": 34,
   "metadata": {},
   "outputs": [],
   "source": [
    "p=Puzzle_Numeros([\"X\",\"+\",\"X\",\"*\",5,\":\",\"X\",\"+\",\"X\",\"+\",12,\"*\",\"X\",\"-\",\"X\",\"-\",11,\"*\",\"X\",\"*\",\"X\",\":\",\"X\",\"-\",10,\"=\",66])\n",
    "p1=Puzzle_Numeros([\"X\",\"+\",\"X\",\"+\",\"X\",\"+\",\"X\",\"+\",\"X\",\"+\",\"X\",\"+\",\"X\",\"+\",\"X\",\"+\",\"X\",\"+\",1,\"-\",1,\"=\",45])\n",
    "p2=Puzzle_Numeros([\"X\",\"-\",\"X\",\"=\",1])"
   ]
  },
  {
   "cell_type": "code",
   "execution_count": 31,
   "metadata": {},
   "outputs": [
    {
     "data": {
      "text/plain": [
       "[9, 5, 8, 7, 4, 6, 2, 1, 3, 0]"
      ]
     },
     "execution_count": 31,
     "metadata": {},
     "output_type": "execute_result"
    }
   ],
   "source": [
    "depth_first_graph_search(p).solution()"
   ]
  },
  {
   "cell_type": "code",
   "execution_count": 35,
   "metadata": {},
   "outputs": [
    {
     "name": "stdout",
     "output_type": "stream",
     "text": [
      "5.12 s ± 20.7 ms per loop (mean ± std. dev. of 7 runs, 1 loop each)\n"
     ]
    }
   ],
   "source": [
    "%%timeit\n",
    "breadth_first_graph_search(p).solution()"
   ]
  },
  {
   "cell_type": "code",
   "execution_count": null,
   "metadata": {},
   "outputs": [],
   "source": [
    "uniform_cost_search(p).solution()"
   ]
  },
  {
   "cell_type": "markdown",
   "metadata": {},
   "source": [
    " A pesar de que nuestro árbol requiere más de 9! estados por la acción adicional de \"avanzar\", el cálculo del goal_test es constante; mientras que si solo llevamos los numeros situados, en una ecuacion de longitud n desconocida, el cálculo del goal_test sería lineal, lo que a la larga puede ser peor."
   ]
  }
 ],
 "metadata": {
  "kernelspec": {
   "display_name": "Python 3",
   "language": "python",
   "name": "python3"
  },
  "language_info": {
   "codemirror_mode": {
    "name": "ipython",
    "version": 3
   },
   "file_extension": ".py",
   "mimetype": "text/x-python",
   "name": "python",
   "nbconvert_exporter": "python",
   "pygments_lexer": "ipython3",
   "version": "3.8.3"
  }
 },
 "nbformat": 4,
 "nbformat_minor": 4
}
